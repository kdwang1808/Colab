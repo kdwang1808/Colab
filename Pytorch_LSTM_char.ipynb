{
 "cells": [
  {
   "cell_type": "markdown",
   "metadata": {},
   "source": [
    "# Character-Level LSTM in PyTorch\n",
    "\n",
    "In this notebook, I'll construct a character-level LSTM with PyTorch. The network will train character by character on some text, then generate new text character by character. As an example, I will train on Anna Karenina. **This model will be able to generate new text based on the text from the book!**\n",
    "\n",
    "This network is based off of Andrej Karpathy's [post on RNNs](http://karpathy.github.io/2015/05/21/rnn-effectiveness/) and [implementation in Torch](https://github.com/karpathy/char-rnn). Below is the general architecture of the character-wise RNN.\n",
    "\n",
    "<img src=\"assets/charseq.jpeg\" width=\"500\">"
   ]
  },
  {
   "cell_type": "code",
   "execution_count": 1,
   "metadata": {},
   "outputs": [],
   "source": [
    "import numpy as np\n",
    "import torch\n",
    "from torch import nn\n",
    "import torch.nn.functional as F"
   ]
  },
  {
   "cell_type": "code",
   "execution_count": 2,
   "metadata": {},
   "outputs": [],
   "source": [
    "# open text file and read in data as `text`\n",
    "with open('data/anna.txt', 'r') as f:\n",
    "    text = f.read()"
   ]
  },
  {
   "cell_type": "code",
   "execution_count": 3,
   "metadata": {},
   "outputs": [
    {
     "data": {
      "text/plain": "'Chapter 1\\n\\n\\nHappy families are all alike; every unhappy family is unhappy in its own\\nway.\\n\\nEverythin'"
     },
     "execution_count": 3,
     "metadata": {},
     "output_type": "execute_result"
    }
   ],
   "source": [
    "text[:100]"
   ]
  },
  {
   "cell_type": "markdown",
   "metadata": {},
   "source": [
    "### Tokenization\n",
    "* Creating a couple **dictionaries** to convert the characters to and from integers. "
   ]
  },
  {
   "cell_type": "code",
   "execution_count": 4,
   "metadata": {},
   "outputs": [
    {
     "data": {
      "text/plain": "array([46, 39,  1, 15, 11,  8,  6, 30, 72, 82, 82, 82,  9,  1, 15, 15,  3,\n       30, 69,  1, 32, 73, 25, 73,  8, 66, 30,  1,  6,  8, 30,  1, 25, 25,\n       30,  1, 25, 73, 55,  8, 57, 30,  8, 26,  8,  6,  3, 30, 59, 50, 39,\n        1, 15, 15,  3, 30, 69,  1, 32, 73, 25,  3, 30, 73, 66, 30, 59, 50,\n       39,  1, 15, 15,  3, 30, 73, 50, 30, 73, 11, 66, 30, 63, 52, 50, 82,\n       52,  1,  3, 21, 82, 82, 31, 26,  8,  6,  3, 11, 39, 73, 50])"
     },
     "execution_count": 4,
     "metadata": {},
     "output_type": "execute_result"
    }
   ],
   "source": [
    "# 1. int2char, which maps integers to characters\n",
    "# 2. char2int, which maps characters to unique integers -> use set\n",
    "chars = tuple(set(text))\n",
    "int2char = dict(enumerate(chars))\n",
    "char2int = {ch: ii for ii, ch in int2char.items()}\n",
    "\n",
    "# encode the text\n",
    "encoded = np.array([char2int[ch] for ch in text])\n",
    "encoded[:100]"
   ]
  },
  {
   "cell_type": "markdown",
   "metadata": {},
   "source": [
    "## Pre-processing the data\n"
   ]
  },
  {
   "cell_type": "code",
   "execution_count": 5,
   "metadata": {},
   "outputs": [],
   "source": [
    "def one_hot_encode(arr, n_labels):\n",
    "    \n",
    "    # Initialize the the encoded array\n",
    "    one_hot = np.zeros((arr.size, n_labels), dtype=np.float32)\n",
    "    \n",
    "    # Fill the appropriate elements with ones\n",
    "    one_hot[np.arange(one_hot.shape[0]), arr.flatten()] = 1.\n",
    "    \n",
    "    # Finally reshape it to get back to the original array\n",
    "    one_hot = one_hot.reshape((*arr.shape, n_labels))\n",
    "    \n",
    "    return one_hot"
   ]
  },
  {
   "cell_type": "code",
   "execution_count": 6,
   "metadata": {},
   "outputs": [
    {
     "name": "stdout",
     "output_type": "stream",
     "text": "[[[0. 0. 0. 1. 0. 0. 0. 0.]\n  [0. 0. 0. 0. 0. 1. 0. 0.]\n  [0. 1. 0. 0. 0. 0. 0. 0.]]]\n"
    }
   ],
   "source": [
    "# check that the function works as expected\n",
    "test_seq = np.array([[3, 5, 1]])\n",
    "one_hot = one_hot_encode(test_seq, 8)\n",
    "\n",
    "print(one_hot)"
   ]
  },
  {
   "cell_type": "markdown",
   "metadata": {},
   "source": [
    "## Making training mini-batches\n",
    "\n",
    "\n",
    "To train on this data, we also want to create mini-batches for training. Remember that we want our batches to be multiple sequences of some desired number of sequence steps. Considering a simple example, our batches would look like this:\n",
    "\n",
    "<img src=\"assets/sequence_batching@1x.png\" width=500px>\n",
    "\n",
    "\n",
    "<br>\n",
    "\n",
    "In this example, we'll take the encoded characters (passed in as the `arr` parameter) and split them into multiple sequences, given by `batch_size`. Each of our sequences will be `seq_length` long.\n",
    "\n",
    "### Creating Batches\n",
    "\n",
    "**1. The first thing we need to do is discard some of the text so we only have completely full mini-batches. **\n",
    "\n",
    "Each batch contains $N \\times M$ characters, where $N$ is the batch size (the number of sequences in a batch) and $M$ is the seq_length or number of time steps in a sequence. Then, to get the total number of batches, $K$, that we can make from the array `arr`, you divide the length of `arr` by the number of characters per batch. Once you know the number of batches, you can get the total number of characters to keep from `arr`, $N * M * K$.\n",
    "\n",
    "**2. After that, we need to split `arr` into $N$ batches. ** \n",
    "\n",
    "You can do this using `arr.reshape(size)` where `size` is a tuple containing the dimensions sizes of the reshaped array. We know we want $N$ sequences in a batch, so let's make that the size of the first dimension. For the second dimension, you can use `-1` as a placeholder in the size, it'll fill up the array with the appropriate data for you. After this, you should have an array that is $N \\times (M * K)$.\n",
    "\n",
    "**3. Now that we have this array, we can iterate through it to get our mini-batches. **\n",
    "\n",
    "The idea is each batch is a $N \\times M$ window on the $N \\times (M * K)$ array. For each subsequent batch, the window moves over by `seq_length`. We also want to create both the input and target arrays. Remember that the targets are just the inputs shifted over by one character. The way I like to do this window is use `range` to take steps of size `n_steps` from $0$ to `arr.shape[1]`, the total number of tokens in each sequence. That way, the integers you get from `range` always point to the start of a batch, and each window is `seq_length` wide.\n",
    "\n",
    "> **TODO:** Write the code for creating batches in the function below. The exercises in this notebook _will not be easy_. I've provided a notebook with solutions alongside this notebook. If you get stuck, checkout the solutions. The most important thing is that you don't copy and paste the code into here, **type out the solution code yourself.**"
   ]
  },
  {
   "cell_type": "code",
   "execution_count": 7,
   "metadata": {},
   "outputs": [],
   "source": [
    "def get_batches(arr, batch_size, seq_length):\n",
    "    '''Create a generator that returns batches of size\n",
    "       batch_size x seq_length from arr.\n",
    "       \n",
    "       Arguments\n",
    "       ---------\n",
    "       arr: Array you want to make batches from\n",
    "       batch_size: Batch size, the number of sequences per batch\n",
    "       seq_length: Number of encoded chars in a sequence\n",
    "    '''\n",
    "    batch_size_total = batch_size * seq_length\n",
    "    ## TODO: Get the number of batches we can make\n",
    "    n_batches = len(arr)//batch_size_total\n",
    "    \n",
    "    ## TODO: Keep only enough characters to make full batches\n",
    "    arr = arr[:n_batches * batch_size_total]\n",
    "    \n",
    "    ## TODO: Reshape into batch_size rows\n",
    "    arr = arr.reshape((batch_size, -1))\n",
    "    \n",
    "    ## TODO: Iterate over the batches using a window of size seq_length\n",
    "    for n in range(0, arr.shape[1], seq_length):\n",
    "        # The features\n",
    "        x = arr[:, n: n+seq_length]\n",
    "        # The targets, shifted by one\n",
    "        y = np.zeros_like(x)\n",
    "        try:\n",
    "            y[:, :-1], y[:, -1] = x[:, 1:], arr[:, n+seq_length]\n",
    "        except IndexError:\n",
    "            y[:, :-1], y[:, -1] = x[:, 1:], arr[:, 0]\n",
    "        yield x, y \n",
    "        # yield 的作用就是把一个函数变成一个 generator"
   ]
  },
  {
   "cell_type": "markdown",
   "metadata": {},
   "source": [
    "### Test Your Implementation\n",
    "\n",
    "Now I'll make some data sets and we can check out what's going on as we batch data. Here, as an example, I'm going to use a batch size of 8 and 50 sequence steps."
   ]
  },
  {
   "cell_type": "code",
   "execution_count": 8,
   "metadata": {},
   "outputs": [],
   "source": [
    "batches = get_batches(encoded, 8, 50)\n",
    "x, y = next(batches)"
   ]
  },
  {
   "cell_type": "code",
   "execution_count": 9,
   "metadata": {},
   "outputs": [
    {
     "name": "stdout",
     "output_type": "stream",
     "text": "x\n[[46 39  1 15 11  8  6 30 72 82]\n [66 63 50 30 11 39  1 11 30  1]\n [ 8 50 74 30 63  6 30  1 30 69]\n [66 30 11 39  8 30 71 39 73  8]\n [30 66  1 52 30 39  8  6 30 11]\n [71 59 66 66 73 63 50 30  1 50]\n [30 45 50 50  1 30 39  1 74 30]\n [67 51 25 63 50 66 55  3 21 30]]\n\ny\n[[39  1 15 11  8  6 30 72 82 82]\n [63 50 30 11 39  1 11 30  1 11]\n [50 74 30 63  6 30  1 30 69 63]\n [30 11 39  8 30 71 39 73  8 69]\n [66  1 52 30 39  8  6 30 11  8]\n [59 66 66 73 63 50 30  1 50 74]\n [45 50 50  1 30 39  1 74 30 66]\n [51 25 63 50 66 55  3 21 30  4]]\n"
    }
   ],
   "source": [
    "# printing out the first 10 items in a sequence\n",
    "print('x\\n', x[:10, :10])\n",
    "print('\\ny\\n', y[:10, :10])"
   ]
  },
  {
   "cell_type": "markdown",
   "metadata": {},
   "source": [
    "---\n",
    "## Defining the network with PyTorch\n",
    "* Double-stacked LSTM\n",
    "<img src=\"assets/charRNN.png\" width=500px>"
   ]
  },
  {
   "cell_type": "markdown",
   "metadata": {},
   "source": [
    "### Model Structure\n",
    "\n",
    "In `__init__` the suggested structure is as follows:\n",
    "* Create and store the necessary dictionaries (this has been done for you)\n",
    "* Define an LSTM layer that takes as params: an input size (the number of characters), a hidden layer size `n_hidden`, a number of layers `n_layers`, a dropout probability `drop_prob`, and a batch_first boolean (True, since we are batching)\n",
    "* Define a dropout layer with `drop_prob`\n",
    "* Define a fully-connected layer with params: input size `n_hidden` and output size (the number of characters)\n",
    "* Finally, initialize the weights (again, this has been given)\n",
    "\n",
    "Note that some parameters have been named and given in the `__init__` function, and we use them and store them by doing something like `self.drop_prob = drop_prob`."
   ]
  },
  {
   "cell_type": "markdown",
   "metadata": {},
   "source": [
    "---\n",
    "### LSTM Inputs/Outputs\n",
    "\n",
    "You can create a basic [LSTM layer](https://pytorch.org/docs/stable/nn.html#lstm) as follows\n",
    "\n",
    "```python\n",
    "self.lstm = nn.LSTM(input_size, n_hidden, n_layers, \n",
    "                            dropout=drop_prob, batch_first=True)\n",
    "```\n",
    "\n",
    "where `input_size` is the number of characters this cell expects to see as sequential input, and `n_hidden` is the number of units in the hidden layers in the cell. And we can add dropout by adding a dropout parameter with a specified probability; this will automatically add dropout to the inputs or outputs. Finally, in the `forward` function, we can stack up the LSTM cells into layers using `.view`. With this, you pass in a list of cells and it will send the output of one cell into the next cell.\n",
    "\n",
    "We also need to create an initial hidden state of all zeros. This is done like so\n",
    "\n",
    "```python\n",
    "self.init_hidden()\n",
    "```"
   ]
  },
  {
   "cell_type": "code",
   "execution_count": 10,
   "metadata": {},
   "outputs": [
    {
     "name": "stdout",
     "output_type": "stream",
     "text": "Training on GPU!\n"
    }
   ],
   "source": [
    "# check if GPU is available\n",
    "train_on_gpu = torch.cuda.is_available()\n",
    "if(train_on_gpu):\n",
    "    print('Training on GPU!')\n",
    "else: \n",
    "    print('No GPU available, training on CPU; consider making n_epochs very small.')"
   ]
  },
  {
   "cell_type": "code",
   "execution_count": 11,
   "metadata": {},
   "outputs": [],
   "source": [
    "class CharRNN(nn.Module):\n",
    "    \n",
    "    def __init__(self, tokens, n_hidden=256, n_layers=2,\n",
    "                               drop_prob=0.5, lr=0.001):\n",
    "        super().__init__()\n",
    "        self.drop_prob = drop_prob\n",
    "        self.n_layers = n_layers\n",
    "        self.n_hidden = n_hidden\n",
    "        self.lr = lr\n",
    "        \n",
    "        # creating character dictionaries\n",
    "        self.chars = tokens\n",
    "        self.int2char = dict(enumerate(self.chars))\n",
    "        self.char2int = {ch: ii for ii, ch in self.int2char.items()}\n",
    "        \n",
    "        ## TODO: define the layers of the model\n",
    "        self.lstm = nn.LSTM(len(self.chars), n_hidden, n_layers, \n",
    "                            dropout=drop_prob, batch_first=True)\n",
    "        self.dropout = nn.Dropout(drop_prob)\n",
    "        self.fc = nn.Linear(n_hidden, len(self.chars))\n",
    "    \n",
    "    def forward(self, x, hidden):\n",
    "        ''' Forward pass through the network. \n",
    "            These inputs are x, and the hidden/cell state `hidden`. '''\n",
    "                \n",
    "        ## TODO: Get the outputs and the new hidden state from the lstm\n",
    "        \n",
    "        r_output, hidden = self.lstm(x, hidden)\n",
    "        out = self.dropout(r_output)\n",
    "        out = out.contiguous().view(-1, self.n_hidden)\n",
    "        out = self.fc(out)\n",
    "        return out, hidden\n",
    "    \n",
    "    \n",
    "    def init_hidden(self, batch_size):\n",
    "        ''' Initializes hidden state '''\n",
    "        # Create two new tensors with sizes n_layers x batch_size x n_hidden,\n",
    "        # initialized to zero, for hidden state and cell state of LSTM\n",
    "        weight = next(self.parameters()).data\n",
    "        \n",
    "        if (train_on_gpu):\n",
    "            hidden = (weight.new(self.n_layers, batch_size, self.n_hidden).zero_().cuda(),\n",
    "                  weight.new(self.n_layers, batch_size, self.n_hidden).zero_().cuda())\n",
    "        else:\n",
    "            hidden = (weight.new(self.n_layers, batch_size, self.n_hidden).zero_(),\n",
    "                      weight.new(self.n_layers, batch_size, self.n_hidden).zero_())\n",
    "        \n",
    "        return hidden\n",
    "        "
   ]
  },
  {
   "cell_type": "markdown",
   "metadata": {},
   "source": [
    "## Time to train\n",
    "\n",
    "A couple of details about training: \n",
    ">* Within the batch loop, we detach the hidden state from its history; this time setting it equal to a new *tuple* variable because an LSTM has a hidden state that is a tuple of the hidden and cell states.\n",
    "* We use [`clip_grad_norm_`](https://pytorch.org/docs/stable/_modules/torch/nn/utils/clip_grad.html) to help prevent exploding gradients."
   ]
  },
  {
   "cell_type": "code",
   "execution_count": 12,
   "metadata": {},
   "outputs": [],
   "source": [
    "def train(net, data, epochs=10, batch_size=10, seq_length=50, lr=0.001, clip=5, val_frac=0.1, print_every=10):\n",
    "    ''' Training a network \n",
    "    \n",
    "        Arguments\n",
    "        ---------\n",
    "        \n",
    "        net: CharRNN network\n",
    "        data: text data to train the network\n",
    "        epochs: Number of epochs to train\n",
    "        batch_size: Number of mini-sequences per mini-batch, aka batch size\n",
    "        seq_length: Number of character steps per mini-batch\n",
    "        lr: learning rate\n",
    "        clip: gradient clipping\n",
    "        val_frac: Fraction of data to hold out for validation\n",
    "        print_every: Number of steps for printing training and validation loss\n",
    "    \n",
    "    '''\n",
    "    net.train()\n",
    "    \n",
    "    opt = torch.optim.Adam(net.parameters(), lr=lr)\n",
    "    criterion = nn.CrossEntropyLoss()\n",
    "    \n",
    "    # create training and validation data\n",
    "    val_idx = int(len(data)*(1-val_frac))\n",
    "    data, val_data = data[:val_idx], data[val_idx:]\n",
    "    \n",
    "    if(train_on_gpu):\n",
    "        net.cuda()\n",
    "    \n",
    "    counter = 0\n",
    "    n_chars = len(net.chars)\n",
    "    for e in range(epochs):\n",
    "        # initialize hidden state\n",
    "        h = net.init_hidden(batch_size)\n",
    "        \n",
    "        for x, y in get_batches(data, batch_size, seq_length):\n",
    "            counter += 1\n",
    "            \n",
    "            # One-hot encode our data and make them Torch tensors\n",
    "            x = one_hot_encode(x, n_chars)\n",
    "            inputs, targets = torch.from_numpy(x), torch.from_numpy(y)\n",
    "            \n",
    "            if(train_on_gpu):\n",
    "                inputs, targets = inputs.cuda(), targets.cuda()\n",
    "\n",
    "            # Creating new variables for the hidden state, otherwise\n",
    "            # we'd backprop through the entire training history\n",
    "            h = tuple([each.data for each in h])\n",
    "\n",
    "            # zero accumulated gradients\n",
    "            net.zero_grad()\n",
    "            \n",
    "            # get the output from the model\n",
    "            output, h = net(inputs, h)\n",
    "            \n",
    "            # calculate the loss and perform backprop\n",
    "            loss = criterion(output, targets.view(batch_size*seq_length).long())\n",
    "            loss.backward()\n",
    "            # `clip_grad_norm` helps prevent the exploding gradient problem in RNNs / LSTMs.\n",
    "            nn.utils.clip_grad_norm_(net.parameters(), clip)\n",
    "            opt.step()\n",
    "            \n",
    "            # loss stats\n",
    "            if counter % print_every == 0:\n",
    "                # Get validation loss\n",
    "                val_h = net.init_hidden(batch_size)\n",
    "                val_losses = []\n",
    "                net.eval()\n",
    "                for x, y in get_batches(val_data, batch_size, seq_length):\n",
    "                    # One-hot encode our data and make them Torch tensors\n",
    "                    x = one_hot_encode(x, n_chars)\n",
    "                    x, y = torch.from_numpy(x), torch.from_numpy(y)\n",
    "                    \n",
    "                    # Creating new variables for the hidden state, otherwise\n",
    "                    # we'd backprop through the entire training history\n",
    "                    val_h = tuple([each.data for each in val_h])\n",
    "                    \n",
    "                    inputs, targets = x, y\n",
    "                    if(train_on_gpu):\n",
    "                        inputs, targets = inputs.cuda(), targets.cuda()\n",
    "\n",
    "                    output, val_h = net(inputs, val_h)\n",
    "                    val_loss = criterion(output, targets.view(batch_size*seq_length).long())\n",
    "                \n",
    "                    val_losses.append(val_loss.item())\n",
    "                \n",
    "                net.train() # reset to train mode after iterationg through validation data\n",
    "                \n",
    "                print(\"Epoch: {}/{}...\".format(e+1, epochs),\n",
    "                      \"Step: {}...\".format(counter),\n",
    "                      \"Loss: {:.4f}...\".format(loss.item()),\n",
    "                      \"Val Loss: {:.4f}\".format(np.mean(val_losses)))"
   ]
  },
  {
   "cell_type": "markdown",
   "metadata": {},
   "source": [
    "## Instantiating the model\n",
    "\n",
    "Now we can actually train the network. First we'll create the network itself, with some given hyperparameters. Then, define the mini-batches sizes, and start training!"
   ]
  },
  {
   "cell_type": "code",
   "execution_count": 14,
   "metadata": {},
   "outputs": [
    {
     "name": "stdout",
     "output_type": "stream",
     "text": "CharRNN(\n  (lstm): LSTM(83, 512, num_layers=2, batch_first=True, dropout=0.5)\n  (dropout): Dropout(p=0.5, inplace=False)\n  (fc): Linear(in_features=512, out_features=83, bias=True)\n)\n"
    }
   ],
   "source": [
    "## TODO: set your model hyperparameters\n",
    "# define and print the net\n",
    "n_hidden=512\n",
    "n_layers=2\n",
    "\n",
    "net = CharRNN(chars, n_hidden, n_layers)\n",
    "print(net)"
   ]
  },
  {
   "cell_type": "code",
   "execution_count": 15,
   "metadata": {},
   "outputs": [
    {
     "name": "stdout",
     "output_type": "stream",
     "text": "Epoch: 1/20...Step: 10...Loss: 3.2694...Val Loss: 3.2198\nEpoch: 1/20...Step: 20...Loss: 3.1519...Val Loss: 3.1418\nEpoch: 1/20...Step: 30...Loss: 3.1388...Val Loss: 3.1247\nEpoch: 1/20...Step: 40...Loss: 3.1127...Val Loss: 3.1186\nEpoch: 1/20...Step: 50...Loss: 3.1421...Val Loss: 3.1170\nEpoch: 1/20...Step: 60...Loss: 3.1170...Val Loss: 3.1145\nEpoch: 1/20...Step: 70...Loss: 3.1054...Val Loss: 3.1117\nEpoch: 1/20...Step: 80...Loss: 3.1150...Val Loss: 3.1054\nEpoch: 1/20...Step: 90...Loss: 3.1096...Val Loss: 3.0935\nEpoch: 1/20...Step: 100...Loss: 3.0728...Val Loss: 3.0599\nEpoch: 1/20...Step: 110...Loss: 3.0099...Val Loss: 2.9828\nEpoch: 1/20...Step: 120...Loss: 2.8451...Val Loss: 2.9242\nEpoch: 1/20...Step: 130...Loss: 2.7745...Val Loss: 2.7368\nEpoch: 2/20...Step: 140...Loss: 2.6842...Val Loss: 2.6195\nEpoch: 2/20...Step: 150...Loss: 2.5951...Val Loss: 2.5458\nEpoch: 2/20...Step: 160...Loss: 2.5285...Val Loss: 2.4879\nEpoch: 2/20...Step: 170...Loss: 2.4564...Val Loss: 2.4416\nEpoch: 2/20...Step: 180...Loss: 2.4339...Val Loss: 2.4124\nEpoch: 2/20...Step: 190...Loss: 2.3795...Val Loss: 2.3743\nEpoch: 2/20...Step: 200...Loss: 2.3796...Val Loss: 2.3913\nEpoch: 2/20...Step: 210...Loss: 2.3419...Val Loss: 2.3555\nEpoch: 2/20...Step: 220...Loss: 2.2981...Val Loss: 2.3220\nEpoch: 2/20...Step: 230...Loss: 2.2821...Val Loss: 2.2545\nEpoch: 2/20...Step: 240...Loss: 2.2631...Val Loss: 2.2273\nEpoch: 2/20...Step: 250...Loss: 2.2055...Val Loss: 2.2095\nEpoch: 2/20...Step: 260...Loss: 2.1803...Val Loss: 2.1850\nEpoch: 2/20...Step: 270...Loss: 2.1846...Val Loss: 2.1658\nEpoch: 3/20...Step: 280...Loss: 2.1775...Val Loss: 2.1298\nEpoch: 3/20...Step: 290...Loss: 2.1406...Val Loss: 2.1077\nEpoch: 3/20...Step: 300...Loss: 2.1151...Val Loss: 2.0836\nEpoch: 3/20...Step: 310...Loss: 2.0873...Val Loss: 2.0689\nEpoch: 3/20...Step: 320...Loss: 2.0553...Val Loss: 2.0465\nEpoch: 3/20...Step: 330...Loss: 2.0333...Val Loss: 2.0277\nEpoch: 3/20...Step: 340...Loss: 2.0505...Val Loss: 2.0162\nEpoch: 3/20...Step: 350...Loss: 2.0321...Val Loss: 1.9915\nEpoch: 3/20...Step: 360...Loss: 1.9596...Val Loss: 1.9773\nEpoch: 3/20...Step: 370...Loss: 1.9961...Val Loss: 1.9595\nEpoch: 3/20...Step: 380...Loss: 1.9632...Val Loss: 1.9428\nEpoch: 3/20...Step: 390...Loss: 1.9446...Val Loss: 1.9262\nEpoch: 3/20...Step: 400...Loss: 1.9073...Val Loss: 1.9128\nEpoch: 3/20...Step: 410...Loss: 1.9172...Val Loss: 1.8977\nEpoch: 4/20...Step: 420...Loss: 1.9118...Val Loss: 1.8860\nEpoch: 4/20...Step: 430...Loss: 1.9005...Val Loss: 1.8697\nEpoch: 4/20...Step: 440...Loss: 1.8858...Val Loss: 1.8568\nEpoch: 4/20...Step: 450...Loss: 1.8313...Val Loss: 1.8440\nEpoch: 4/20...Step: 460...Loss: 1.8204...Val Loss: 1.8335\nEpoch: 4/20...Step: 470...Loss: 1.8572...Val Loss: 1.8214\nEpoch: 4/20...Step: 480...Loss: 1.8224...Val Loss: 1.8050\nEpoch: 4/20...Step: 490...Loss: 1.8362...Val Loss: 1.7995\nEpoch: 4/20...Step: 500...Loss: 1.8329...Val Loss: 1.7857\nEpoch: 4/20...Step: 510...Loss: 1.7962...Val Loss: 1.7766\nEpoch: 4/20...Step: 520...Loss: 1.8126...Val Loss: 1.7650\nEpoch: 4/20...Step: 530...Loss: 1.7774...Val Loss: 1.7594\nEpoch: 4/20...Step: 540...Loss: 1.7388...Val Loss: 1.7451\nEpoch: 4/20...Step: 550...Loss: 1.7812...Val Loss: 1.7378\nEpoch: 5/20...Step: 560...Loss: 1.7538...Val Loss: 1.7324\nEpoch: 5/20...Step: 570...Loss: 1.7436...Val Loss: 1.7204\nEpoch: 5/20...Step: 580...Loss: 1.7167...Val Loss: 1.7120\nEpoch: 5/20...Step: 590...Loss: 1.7185...Val Loss: 1.7006\nEpoch: 5/20...Step: 600...Loss: 1.7074...Val Loss: 1.6952\nEpoch: 5/20...Step: 610...Loss: 1.6997...Val Loss: 1.6872\nEpoch: 5/20...Step: 620...Loss: 1.6967...Val Loss: 1.6853\nEpoch: 5/20...Step: 630...Loss: 1.7049...Val Loss: 1.6763\nEpoch: 5/20...Step: 640...Loss: 1.6754...Val Loss: 1.6697\nEpoch: 5/20...Step: 650...Loss: 1.6741...Val Loss: 1.6601\nEpoch: 5/20...Step: 660...Loss: 1.6474...Val Loss: 1.6546\nEpoch: 5/20...Step: 670...Loss: 1.6746...Val Loss: 1.6476\nEpoch: 5/20...Step: 680...Loss: 1.6764...Val Loss: 1.6401\nEpoch: 5/20...Step: 690...Loss: 1.6402...Val Loss: 1.6329\nEpoch: 6/20...Step: 700...Loss: 1.6423...Val Loss: 1.6319\nEpoch: 6/20...Step: 710...Loss: 1.6361...Val Loss: 1.6222\nEpoch: 6/20...Step: 720...Loss: 1.6203...Val Loss: 1.6157\nEpoch: 6/20...Step: 730...Loss: 1.6339...Val Loss: 1.6083\nEpoch: 6/20...Step: 740...Loss: 1.6078...Val Loss: 1.6050\nEpoch: 6/20...Step: 750...Loss: 1.5892...Val Loss: 1.6029\nEpoch: 6/20...Step: 760...Loss: 1.6267...Val Loss: 1.5950\nEpoch: 6/20...Step: 770...Loss: 1.6037...Val Loss: 1.5965\nEpoch: 6/20...Step: 780...Loss: 1.5849...Val Loss: 1.5840\nEpoch: 6/20...Step: 790...Loss: 1.5723...Val Loss: 1.5824\nEpoch: 6/20...Step: 800...Loss: 1.5949...Val Loss: 1.5777\nEpoch: 6/20...Step: 810...Loss: 1.5906...Val Loss: 1.5735\nEpoch: 6/20...Step: 820...Loss: 1.5420...Val Loss: 1.5691\nEpoch: 6/20...Step: 830...Loss: 1.5867...Val Loss: 1.5612\nEpoch: 7/20...Step: 840...Loss: 1.5525...Val Loss: 1.5635\nEpoch: 7/20...Step: 850...Loss: 1.5602...Val Loss: 1.5568\nEpoch: 7/20...Step: 860...Loss: 1.5412...Val Loss: 1.5488\nEpoch: 7/20...Step: 870...Loss: 1.5539...Val Loss: 1.5491\nEpoch: 7/20...Step: 880...Loss: 1.5531...Val Loss: 1.5431\nEpoch: 7/20...Step: 890...Loss: 1.5548...Val Loss: 1.5377\nEpoch: 7/20...Step: 900...Loss: 1.5319...Val Loss: 1.5343\nEpoch: 7/20...Step: 910...Loss: 1.4972...Val Loss: 1.5339\nEpoch: 7/20...Step: 920...Loss: 1.5310...Val Loss: 1.5285\nEpoch: 7/20...Step: 930...Loss: 1.5062...Val Loss: 1.5253\nEpoch: 7/20...Step: 940...Loss: 1.5287...Val Loss: 1.5202\nEpoch: 7/20...Step: 950...Loss: 1.5215...Val Loss: 1.5165\nEpoch: 7/20...Step: 960...Loss: 1.5308...Val Loss: 1.5134\nEpoch: 7/20...Step: 970...Loss: 1.5315...Val Loss: 1.5125\nEpoch: 8/20...Step: 980...Loss: 1.5032...Val Loss: 1.5134\nEpoch: 8/20...Step: 990...Loss: 1.5147...Val Loss: 1.5077\nEpoch: 8/20...Step: 1000...Loss: 1.4995...Val Loss: 1.5009\nEpoch: 8/20...Step: 1010...Loss: 1.5319...Val Loss: 1.4973\nEpoch: 8/20...Step: 1020...Loss: 1.5161...Val Loss: 1.4934\nEpoch: 8/20...Step: 1030...Loss: 1.4983...Val Loss: 1.4908\nEpoch: 8/20...Step: 1040...Loss: 1.4955...Val Loss: 1.4887\nEpoch: 8/20...Step: 1050...Loss: 1.4741...Val Loss: 1.4872\nEpoch: 8/20...Step: 1060...Loss: 1.4740...Val Loss: 1.4845\nEpoch: 8/20...Step: 1070...Loss: 1.4805...Val Loss: 1.4784\nEpoch: 8/20...Step: 1080...Loss: 1.4828...Val Loss: 1.4758\nEpoch: 8/20...Step: 1090...Loss: 1.4588...Val Loss: 1.4734\nEpoch: 8/20...Step: 1100...Loss: 1.4526...Val Loss: 1.4686\nEpoch: 8/20...Step: 1110...Loss: 1.4571...Val Loss: 1.4679\nEpoch: 9/20...Step: 1120...Loss: 1.4704...Val Loss: 1.4700\nEpoch: 9/20...Step: 1130...Loss: 1.4741...Val Loss: 1.4637\nEpoch: 9/20...Step: 1140...Loss: 1.4701...Val Loss: 1.4632\nEpoch: 9/20...Step: 1150...Loss: 1.4822...Val Loss: 1.4596\nEpoch: 9/20...Step: 1160...Loss: 1.4303...Val Loss: 1.4560\nEpoch: 9/20...Step: 1170...Loss: 1.4425...Val Loss: 1.4544\nEpoch: 9/20...Step: 1180...Loss: 1.4349...Val Loss: 1.4525\nEpoch: 9/20...Step: 1190...Loss: 1.4747...Val Loss: 1.4515\nEpoch: 9/20...Step: 1200...Loss: 1.4138...Val Loss: 1.4450\nEpoch: 9/20...Step: 1210...Loss: 1.4355...Val Loss: 1.4435\nEpoch: 9/20...Step: 1220...Loss: 1.4379...Val Loss: 1.4403\nEpoch: 9/20...Step: 1230...Loss: 1.4145...Val Loss: 1.4384\nEpoch: 9/20...Step: 1240...Loss: 1.4203...Val Loss: 1.4346\nEpoch: 9/20...Step: 1250...Loss: 1.4230...Val Loss: 1.4331\nEpoch: 10/20...Step: 1260...Loss: 1.4330...Val Loss: 1.4360\nEpoch: 10/20...Step: 1270...Loss: 1.4267...Val Loss: 1.4269\nEpoch: 10/20...Step: 1280...Loss: 1.4353...Val Loss: 1.4253\nEpoch: 10/20...Step: 1290...Loss: 1.4262...Val Loss: 1.4252\nEpoch: 10/20...Step: 1300...Loss: 1.4166...Val Loss: 1.4234\nEpoch: 10/20...Step: 1310...Loss: 1.4310...Val Loss: 1.4219\nEpoch: 10/20...Step: 1320...Loss: 1.3913...Val Loss: 1.4192\nEpoch: 10/20...Step: 1330...Loss: 1.3908...Val Loss: 1.4227\nEpoch: 10/20...Step: 1340...Loss: 1.3884...Val Loss: 1.4138\nEpoch: 10/20...Step: 1350...Loss: 1.3842...Val Loss: 1.4147\nEpoch: 10/20...Step: 1360...Loss: 1.3841...Val Loss: 1.4151\nEpoch: 10/20...Step: 1370...Loss: 1.3816...Val Loss: 1.4134\nEpoch: 10/20...Step: 1380...Loss: 1.4156...Val Loss: 1.4104\nEpoch: 10/20...Step: 1390...Loss: 1.4298...Val Loss: 1.4042\nEpoch: 11/20...Step: 1400...Loss: 1.4246...Val Loss: 1.4071\nEpoch: 11/20...Step: 1410...Loss: 1.4341...Val Loss: 1.4023\nEpoch: 11/20...Step: 1420...Loss: 1.4190...Val Loss: 1.4013\nEpoch: 11/20...Step: 1430...Loss: 1.3900...Val Loss: 1.4037\nEpoch: 11/20...Step: 1440...Loss: 1.4110...Val Loss: 1.3964\nEpoch: 11/20...Step: 1450...Loss: 1.3399...Val Loss: 1.3965\nEpoch: 11/20...Step: 1460...Loss: 1.3627...Val Loss: 1.3927\nEpoch: 11/20...Step: 1470...Loss: 1.3589...Val Loss: 1.3960\nEpoch: 11/20...Step: 1480...Loss: 1.3789...Val Loss: 1.3903\nEpoch: 11/20...Step: 1490...Loss: 1.3639...Val Loss: 1.3906\nEpoch: 11/20...Step: 1500...Loss: 1.3575...Val Loss: 1.3884\nEpoch: 11/20...Step: 1510...Loss: 1.3379...Val Loss: 1.3878\nEpoch: 11/20...Step: 1520...Loss: 1.3732...Val Loss: 1.3834\nEpoch: 12/20...Step: 1530...Loss: 1.4250...Val Loss: 1.3805\nEpoch: 12/20...Step: 1540...Loss: 1.3801...Val Loss: 1.3826\nEpoch: 12/20...Step: 1550...Loss: 1.3799...Val Loss: 1.3784\nEpoch: 12/20...Step: 1560...Loss: 1.3972...Val Loss: 1.3745\nEpoch: 12/20...Step: 1570...Loss: 1.3417...Val Loss: 1.3772\nEpoch: 12/20...Step: 1580...Loss: 1.3183...Val Loss: 1.3731\nEpoch: 12/20...Step: 1590...Loss: 1.3150...Val Loss: 1.3728\nEpoch: 12/20...Step: 1600...Loss: 1.3398...Val Loss: 1.3718\nEpoch: 12/20...Step: 1610...Loss: 1.3443...Val Loss: 1.3683\nEpoch: 12/20...Step: 1620...Loss: 1.3342...Val Loss: 1.3634\nEpoch: 12/20...Step: 1630...Loss: 1.3575...Val Loss: 1.3653\nEpoch: 12/20...Step: 1640...Loss: 1.3251...Val Loss: 1.3653\nEpoch: 12/20...Step: 1650...Loss: 1.3036...Val Loss: 1.3644\nEpoch: 12/20...Step: 1660...Loss: 1.3617...Val Loss: 1.3553\nEpoch: 13/20...Step: 1670...Loss: 1.3377...Val Loss: 1.3558\nEpoch: 13/20...Step: 1680...Loss: 1.3526...Val Loss: 1.3572\nEpoch: 13/20...Step: 1690...Loss: 1.3231...Val Loss: 1.3524\nEpoch: 13/20...Step: 1700...Loss: 1.3256...Val Loss: 1.3568\nEpoch: 13/20...Step: 1710...Loss: 1.3040...Val Loss: 1.3510\nEpoch: 13/20...Step: 1720...Loss: 1.3099...Val Loss: 1.3469\nEpoch: 13/20...Step: 1730...Loss: 1.3442...Val Loss: 1.3507\nEpoch: 13/20...Step: 1740...Loss: 1.3160...Val Loss: 1.3515\nEpoch: 13/20...Step: 1750...Loss: 1.2890...Val Loss: 1.3500\nEpoch: 13/20...Step: 1760...Loss: 1.3189...Val Loss: 1.3498\nEpoch: 13/20...Step: 1770...Loss: 1.3330...Val Loss: 1.3430\nEpoch: 13/20...Step: 1780...Loss: 1.3083...Val Loss: 1.3477\nEpoch: 13/20...Step: 1790...Loss: 1.2928...Val Loss: 1.3435\nEpoch: 13/20...Step: 1800...Loss: 1.3194...Val Loss: 1.3438\nEpoch: 14/20...Step: 1810...Loss: 1.3231...Val Loss: 1.3365\nEpoch: 14/20...Step: 1820...Loss: 1.3101...Val Loss: 1.3330\nEpoch: 14/20...Step: 1830...Loss: 1.3167...Val Loss: 1.3388\nEpoch: 14/20...Step: 1840...Loss: 1.2612...Val Loss: 1.3370\nEpoch: 14/20...Step: 1850...Loss: 1.2515...Val Loss: 1.3387\nEpoch: 14/20...Step: 1860...Loss: 1.3131...Val Loss: 1.3302\nEpoch: 14/20...Step: 1870...Loss: 1.3207...Val Loss: 1.3303\nEpoch: 14/20...Step: 1880...Loss: 1.3104...Val Loss: 1.3304\nEpoch: 14/20...Step: 1890...Loss: 1.3262...Val Loss: 1.3382\nEpoch: 14/20...Step: 1900...Loss: 1.3061...Val Loss: 1.3342\nEpoch: 14/20...Step: 1910...Loss: 1.3126...Val Loss: 1.3291\nEpoch: 14/20...Step: 1920...Loss: 1.2980...Val Loss: 1.3271\nEpoch: 14/20...Step: 1930...Loss: 1.2619...Val Loss: 1.3300\nEpoch: 14/20...Step: 1940...Loss: 1.3224...Val Loss: 1.3271\nEpoch: 15/20...Step: 1950...Loss: 1.2843...Val Loss: 1.3258\nEpoch: 15/20...Step: 1960...Loss: 1.2889...Val Loss: 1.3235\nEpoch: 15/20...Step: 1970...Loss: 1.2769...Val Loss: 1.3240\nEpoch: 15/20...Step: 1980...Loss: 1.2761...Val Loss: 1.3279\nEpoch: 15/20...Step: 1990...Loss: 1.2716...Val Loss: 1.3211\nEpoch: 15/20...Step: 2000...Loss: 1.2584...Val Loss: 1.3207\nEpoch: 15/20...Step: 2010...Loss: 1.2806...Val Loss: 1.3146\nEpoch: 15/20...Step: 2020...Loss: 1.2932...Val Loss: 1.3186\nEpoch: 15/20...Step: 2030...Loss: 1.2586...Val Loss: 1.3236\nEpoch: 15/20...Step: 2040...Loss: 1.2773...Val Loss: 1.3186\nEpoch: 15/20...Step: 2050...Loss: 1.2684...Val Loss: 1.3219\nEpoch: 15/20...Step: 2060...Loss: 1.2903...Val Loss: 1.3159\nEpoch: 15/20...Step: 2070...Loss: 1.2810...Val Loss: 1.3147\nEpoch: 15/20...Step: 2080...Loss: 1.2744...Val Loss: 1.3127\nEpoch: 16/20...Step: 2090...Loss: 1.2876...Val Loss: 1.3234\nEpoch: 16/20...Step: 2100...Loss: 1.2751...Val Loss: 1.3165\nEpoch: 16/20...Step: 2110...Loss: 1.2532...Val Loss: 1.3138\nEpoch: 16/20...Step: 2120...Loss: 1.2694...Val Loss: 1.3173\nEpoch: 16/20...Step: 2130...Loss: 1.2449...Val Loss: 1.3127\nEpoch: 16/20...Step: 2140...Loss: 1.2547...Val Loss: 1.3120\nEpoch: 16/20...Step: 2150...Loss: 1.2775...Val Loss: 1.3068\nEpoch: 16/20...Step: 2160...Loss: 1.2514...Val Loss: 1.3085\nEpoch: 16/20...Step: 2170...Loss: 1.2586...Val Loss: 1.3072\nEpoch: 16/20...Step: 2180...Loss: 1.2545...Val Loss: 1.3061\nEpoch: 16/20...Step: 2190...Loss: 1.2676...Val Loss: 1.3074\nEpoch: 16/20...Step: 2200...Loss: 1.2592...Val Loss: 1.3046\nEpoch: 16/20...Step: 2210...Loss: 1.2178...Val Loss: 1.3044\nEpoch: 16/20...Step: 2220...Loss: 1.2633...Val Loss: 1.2993\nEpoch: 17/20...Step: 2230...Loss: 1.2412...Val Loss: 1.3042\nEpoch: 17/20...Step: 2240...Loss: 1.2427...Val Loss: 1.3035\nEpoch: 17/20...Step: 2250...Loss: 1.2311...Val Loss: 1.3075\nEpoch: 17/20...Step: 2260...Loss: 1.2396...Val Loss: 1.3074\nEpoch: 17/20...Step: 2270...Loss: 1.2587...Val Loss: 1.3038\nEpoch: 17/20...Step: 2280...Loss: 1.2589...Val Loss: 1.3004\nEpoch: 17/20...Step: 2290...Loss: 1.2537...Val Loss: 1.2975\nEpoch: 17/20...Step: 2300...Loss: 1.2152...Val Loss: 1.2991\nEpoch: 17/20...Step: 2310...Loss: 1.2460...Val Loss: 1.2955\nEpoch: 17/20...Step: 2320...Loss: 1.2391...Val Loss: 1.2947\nEpoch: 17/20...Step: 2330...Loss: 1.2319...Val Loss: 1.2939\nEpoch: 17/20...Step: 2340...Loss: 1.2482...Val Loss: 1.2903\nEpoch: 17/20...Step: 2350...Loss: 1.2481...Val Loss: 1.2932\nEpoch: 17/20...Step: 2360...Loss: 1.2540...Val Loss: 1.2947\nEpoch: 18/20...Step: 2370...Loss: 1.2348...Val Loss: 1.2988\nEpoch: 18/20...Step: 2380...Loss: 1.2367...Val Loss: 1.2969\nEpoch: 18/20...Step: 2390...Loss: 1.2334...Val Loss: 1.2972\nEpoch: 18/20...Step: 2400...Loss: 1.2622...Val Loss: 1.2949\nEpoch: 18/20...Step: 2410...Loss: 1.2474...Val Loss: 1.2995\nEpoch: 18/20...Step: 2420...Loss: 1.2330...Val Loss: 1.2924\nEpoch: 18/20...Step: 2430...Loss: 1.2455...Val Loss: 1.2921\nEpoch: 18/20...Step: 2440...Loss: 1.2309...Val Loss: 1.2918\nEpoch: 18/20...Step: 2450...Loss: 1.2180...Val Loss: 1.2969\nEpoch: 18/20...Step: 2460...Loss: 1.2393...Val Loss: 1.2895\nEpoch: 18/20...Step: 2470...Loss: 1.2230...Val Loss: 1.2881\nEpoch: 18/20...Step: 2480...Loss: 1.2210...Val Loss: 1.2863\nEpoch: 18/20...Step: 2490...Loss: 1.2245...Val Loss: 1.2875\nEpoch: 18/20...Step: 2500...Loss: 1.2223...Val Loss: 1.2884\nEpoch: 19/20...Step: 2510...Loss: 1.2235...Val Loss: 1.2910\nEpoch: 19/20...Step: 2520...Loss: 1.2416...Val Loss: 1.2899\nEpoch: 19/20...Step: 2530...Loss: 1.2489...Val Loss: 1.2898\nEpoch: 19/20...Step: 2540...Loss: 1.2512...Val Loss: 1.2909\nEpoch: 19/20...Step: 2550...Loss: 1.2128...Val Loss: 1.2936\nEpoch: 19/20...Step: 2560...Loss: 1.2191...Val Loss: 1.2848\nEpoch: 19/20...Step: 2570...Loss: 1.2134...Val Loss: 1.2847\nEpoch: 19/20...Step: 2580...Loss: 1.2446...Val Loss: 1.2847\nEpoch: 19/20...Step: 2590...Loss: 1.2048...Val Loss: 1.2831\nEpoch: 19/20...Step: 2600...Loss: 1.2061...Val Loss: 1.2838\nEpoch: 19/20...Step: 2610...Loss: 1.2222...Val Loss: 1.2857\nEpoch: 19/20...Step: 2620...Loss: 1.1988...Val Loss: 1.2818\nEpoch: 19/20...Step: 2630...Loss: 1.1962...Val Loss: 1.2789\nEpoch: 19/20...Step: 2640...Loss: 1.2196...Val Loss: 1.2853\nEpoch: 20/20...Step: 2650...Loss: 1.2254...Val Loss: 1.2816\nEpoch: 20/20...Step: 2660...Loss: 1.2242...Val Loss: 1.2821\nEpoch: 20/20...Step: 2670...Loss: 1.2319...Val Loss: 1.2818\nEpoch: 20/20...Step: 2680...Loss: 1.2202...Val Loss: 1.2856\nEpoch: 20/20...Step: 2690...Loss: 1.2185...Val Loss: 1.2783\nEpoch: 20/20...Step: 2700...Loss: 1.2249...Val Loss: 1.2776\nEpoch: 20/20...Step: 2710...Loss: 1.1892...Val Loss: 1.2791\nEpoch: 20/20...Step: 2720...Loss: 1.2005...Val Loss: 1.2785\nEpoch: 20/20...Step: 2730...Loss: 1.1850...Val Loss: 1.2809\nEpoch: 20/20...Step: 2740...Loss: 1.1887...Val Loss: 1.2796\nEpoch: 20/20...Step: 2750...Loss: 1.1948...Val Loss: 1.2767\nEpoch: 20/20...Step: 2760...Loss: 1.1852...Val Loss: 1.2757\nEpoch: 20/20...Step: 2770...Loss: 1.2304...Val Loss: 1.2765\nEpoch: 20/20...Step: 2780...Loss: 1.2526...Val Loss: 1.2763\n"
    }
   ],
   "source": [
    "batch_size = 128\n",
    "seq_length = 100\n",
    "n_epochs =  20 # start small if you are just testing initial behavior\n",
    "# 1个epoch表示过了1遍训练集中的所有样本\n",
    "# train the model\n",
    "train(net, encoded, epochs=n_epochs, batch_size=batch_size, seq_length=seq_length, lr=0.001, print_every=10)"
   ]
  },
  {
   "cell_type": "markdown",
   "metadata": {},
   "source": [
    "## Getting the best model\n",
    "\n",
    "To set your hyperparameters to get the best performance, you'll want to watch the training and validation losses. If your training loss is much lower than the validation loss, you're overfitting. Increase regularization (more dropout) or use a smaller network. If the training and validation losses are close, you're underfitting so you can increase the size of the network."
   ]
  },
  {
   "cell_type": "markdown",
   "metadata": {},
   "source": [
    "## Hyperparameters\n",
    "\n",
    "Here are the hyperparameters for the network.\n",
    "\n",
    "In defining the model:\n",
    "* `n_hidden` - The number of units in the hidden layers.\n",
    "* `n_layers` - Number of hidden LSTM layers to use.\n",
    "\n",
    "We assume that dropout probability and learning rate will be kept at the default, in this example.\n",
    "\n",
    "And in training:\n",
    "* `batch_size` - Number of sequences running through the network in one pass.\n",
    "* `seq_length` - Number of characters in the sequence the network is trained on. Larger is better typically, the network will learn more long range dependencies. But it takes longer to train. 100 is typically a good number here.\n",
    "* `lr` - Learning rate for training\n",
    "\n",
    "Here's some good advice from Andrej Karpathy on training the network. I'm going to copy it in here for your benefit, but also link to [where it originally came from](https://github.com/karpathy/char-rnn#tips-and-tricks).\n",
    "\n",
    "> ## Tips and Tricks\n",
    "\n",
    ">### Monitoring Validation Loss vs. Training Loss\n",
    ">If you're somewhat new to Machine Learning or Neural Networks it can take a bit of expertise to get good models. The most important quantity to keep track of is the difference between your training loss (printed during training) and the validation loss (printed once in a while when the RNN is run on the validation data (by default every 1000 iterations)). In particular:\n",
    "\n",
    "> - If your training loss is much lower than validation loss then this means the network might be **overfitting**. Solutions to this are to decrease your network size, or to increase dropout. For example you could try dropout of 0.5 and so on.\n",
    "> - If your training/validation loss are about equal then your model is **underfitting**. Increase the size of your model (either number of layers or the raw number of neurons per layer)\n",
    "\n",
    "> ### Approximate number of parameters\n",
    "\n",
    "> The two most important parameters that control the model are `n_hidden` and `n_layers`. I would advise that you always use `n_layers` of either 2/3. The `n_hidden` can be adjusted based on how much data you have. The two important quantities to keep track of here are:\n",
    "\n",
    "> - The number of parameters in your model. This is printed when you start training.\n",
    "> - The size of your dataset. 1MB file is approximately 1 million characters.\n",
    "\n",
    ">These two should be about the same order of magnitude. It's a little tricky to tell. Here are some examples:\n",
    "\n",
    "> - I have a 100MB dataset and I'm using the default parameter settings (which currently print 150K parameters). My data size is significantly larger (100 mil >> 0.15 mil), so I expect to heavily underfit. I am thinking I can comfortably afford to make `n_hidden` larger.\n",
    "> - I have a 10MB dataset and running a 10 million parameter model. I'm slightly nervous and I'm carefully monitoring my validation loss. If it's larger than my training loss then I may want to try to increase dropout a bit and see if that helps the validation loss.\n",
    "\n",
    "> ### Best models strategy\n",
    "\n",
    ">The winning strategy to obtaining very good models (if you have the compute time) is to always err on making the network larger (as large as you're willing to wait for it to compute) and then try different dropout values (between 0,1). Whatever model has the best validation performance (the loss, written in the checkpoint filename, low is good) is the one you should use in the end.\n",
    "\n",
    ">It is very common in deep learning to run many different models with many different hyperparameter settings, and in the end take whatever checkpoint gave the best validation performance.\n",
    "\n",
    ">By the way, the size of your training and validation splits are also parameters. Make sure you have a decent amount of data in your validation set or otherwise the validation performance will be noisy and not very informative."
   ]
  },
  {
   "cell_type": "markdown",
   "metadata": {},
   "source": [
    "### Save Model:"
   ]
  },
  {
   "cell_type": "code",
   "execution_count": 16,
   "metadata": {},
   "outputs": [],
   "source": [
    "# change the name, for saving multiple files\n",
    "model_name = 'rnn_x_epoch.net'\n",
    "\n",
    "checkpoint = {'n_hidden': net.n_hidden,\n",
    "              'n_layers': net.n_layers,\n",
    "              'state_dict': net.state_dict(),\n",
    "              'tokens': net.chars}\n",
    "\n",
    "with open(model_name, 'wb') as f:\n",
    "    torch.save(checkpoint, f)"
   ]
  },
  {
   "cell_type": "markdown",
   "metadata": {},
   "source": [
    "---\n",
    "## Making Predictions\n",
    "\n",
    "Now that the model is trained, we'll want to sample from it and make predictions about next characters! To sample, we pass in a character and have the network predict the next character. Then we take that character, pass it back in, and get another predicted character. Just keep doing this and you'll generate a bunch of text!\n",
    "\n",
    "### A note on the `predict`  function\n",
    "\n",
    "The output of our RNN is from a fully-connected layer and it outputs a **distribution of next-character scores**.\n",
    "\n",
    "> To actually get the next character, we apply a softmax function, which gives us a *probability* distribution that we can then sample to predict the next character.\n",
    "\n",
    "### Top K sampling\n",
    "\n",
    "Our predictions come from a categorical probability distribution over all the possible characters. We can make the sample text and make it more reasonable to handle (with less variables) by only considering some $K$ most probable characters. This will prevent the network from giving us completely absurd characters while allowing it to introduce some noise and randomness into the sampled text. Read more about [topk, here](https://pytorch.org/docs/stable/torch.html#torch.topk).\n"
   ]
  },
  {
   "cell_type": "code",
   "execution_count": 17,
   "metadata": {},
   "outputs": [],
   "source": [
    "def predict(net, char, h=None, top_k=None):\n",
    "        ''' Given a character, predict the next character.\n",
    "            Returns the predicted character and the hidden state.\n",
    "        '''\n",
    "        # top_k: Returns the k largest elements of the given input tensor\n",
    "        # tensor inputs\n",
    "        x = np.array([[net.char2int[char]]])\n",
    "        x = one_hot_encode(x, len(net.chars))\n",
    "        inputs = torch.from_numpy(x)\n",
    "        \n",
    "        if(train_on_gpu):\n",
    "            inputs = inputs.cuda()\n",
    "        \n",
    "        # detach hidden state from history\n",
    "        h = tuple([each.data for each in h])\n",
    "        # get the output of the model\n",
    "        out, h = net(inputs, h)\n",
    "\n",
    "        # get the character probabilities\n",
    "        p = F.softmax(out, dim=1).data\n",
    "        if(train_on_gpu):\n",
    "            p = p.cpu() # move to cpu\n",
    "        \n",
    "        # get top characters\n",
    "        if top_k is None:\n",
    "            top_ch = np.arange(len(net.chars))\n",
    "        else:\n",
    "            p, top_ch = p.topk(top_k)\n",
    "            top_ch = top_ch.numpy().squeeze()\n",
    "        \n",
    "        # select the likely next character with some element of randomness\n",
    "        p = p.numpy().squeeze()\n",
    "        char = np.random.choice(top_ch, p=p/p.sum())\n",
    "        \n",
    "        # return the encoded value of the predicted char and the hidden state\n",
    "        return net.int2char[char], h"
   ]
  },
  {
   "cell_type": "markdown",
   "metadata": {},
   "source": [
    "### Priming and generating text \n",
    "\n",
    "Typically you'll want to prime the network so you can build up a hidden state. Otherwise the network will start out generating characters at random. In general the first bunch of characters will be a little rough since it hasn't built up a long history of characters to predict from."
   ]
  },
  {
   "cell_type": "code",
   "execution_count": 18,
   "metadata": {},
   "outputs": [],
   "source": [
    "def sample(net, size, prime='The', top_k=None):\n",
    "        \n",
    "    if(train_on_gpu):\n",
    "        net.cuda()\n",
    "    else:\n",
    "        net.cpu()\n",
    "    \n",
    "    net.eval() # eval mode\n",
    "    \n",
    "    # First off, run through the prime characters\n",
    "    chars = [ch for ch in prime]\n",
    "    h = net.init_hidden(1)\n",
    "    for ch in prime:\n",
    "        char, h = predict(net, ch, h, top_k=top_k)\n",
    "\n",
    "    chars.append(char)\n",
    "    \n",
    "    # Now pass in the previous character and get a new one\n",
    "    for ii in range(size):\n",
    "        char, h = predict(net, chars[-1], h, top_k=top_k)\n",
    "        chars.append(char)\n",
    "\n",
    "    return ''.join(chars)"
   ]
  },
  {
   "cell_type": "code",
   "execution_count": 19,
   "metadata": {},
   "outputs": [
    {
     "name": "stdout",
     "output_type": "stream",
     "text": "Anna,\" he thought. \"I\ncan't forgive you it and say the principles. And here the people\nwill be now to say to him.\"\n\n\"In the pity, which I've seen the simpless the servants and\nmy secinalisties is the sight of the soft and chatchen as\nthere were near, but I could they be definite, because I could have been\nbefure that they're said to the princess. This may be sure, I could not\nbouse this things and husband at that moments of a litery and a point,\"\nanswered Agafea Mihalovna.\n\n\"Why, if you see that I'm supported!\"\n\nShe stopped, would not be depredsed her. \"Well, I shall be all the\nmanserable senses.\"\n\nLevin saw tried to happy and had surden the painters, boind to\nspeak. At the servise of a policacing that was not thinking of the door\nof the mesters of a pine said that he could not call to her. He was strange to\nspeak. He saw the pass of hin her face. She was straight to Atale\nAnna.\n\nSo it is saying that he had seen there.\n\nAnna took her shoulders.\n\n\"Well, and we seens then at the passion was s\n"
    }
   ],
   "source": [
    "print(sample(net, 1000, prime='Anna', top_k=5))"
   ]
  },
  {
   "cell_type": "markdown",
   "metadata": {},
   "source": [
    "### Loading a checkpoint(saved model)"
   ]
  },
  {
   "cell_type": "code",
   "execution_count": 21,
   "metadata": {},
   "outputs": [
    {
     "data": {
      "text/plain": "<All keys matched successfully>"
     },
     "execution_count": 21,
     "metadata": {},
     "output_type": "execute_result"
    }
   ],
   "source": [
    "# Here we have loaded in a model that trained over 20 epochs `rnn_20_epoch.net`\n",
    "with open('rnn_x_epoch.net', 'rb') as f:\n",
    "    checkpoint = torch.load(f)\n",
    "    \n",
    "loaded = CharRNN(checkpoint['tokens'], n_hidden=checkpoint['n_hidden'], n_layers=checkpoint['n_layers'])\n",
    "loaded.load_state_dict(checkpoint['state_dict'])"
   ]
  },
  {
   "cell_type": "code",
   "execution_count": 22,
   "metadata": {},
   "outputs": [
    {
     "name": "stdout",
     "output_type": "stream",
     "text": "And Levin said\nall them.\n\nStepan Arkadyevitch had been the trap, and settled the same stands\nwith a sight of the position of the person.\n\nShe was colth, and all these what seemed to the complete to spoke of the\nmen, and a peasant as the chief he was not silent as though he was not to\nbegin, but they took their persons in the position. Sergey Ivanovitch stowe\nabout it, and still help her son, but as the same thing he happened\nat a tone of hour to the carriages and all that she had been\nsuffering, as though thore were bound her attention to see an\ntalk in a party, as a lone when he were a peasants who had been thinking\nof to the sout, and he was telling his weather and hand was to\nthe book of the subject, and at the door. He said to himself in the room,\nwith subject of the fach of Anna's common. Before she\nhad been said to Vinness with her face, as he had brought him\nand staying him a ball.\n\n\"This is it were is not atticuded on the contrary, and such a\nsold princess, but I've said this she would have no met of\nit. And there's no times that it is it. I have notine in a\nlong percome that impussible the butters and time. The children, I don't believe that\nI have anyone's face to the straight of anywhine in how if he was thinking. I\nhave so long then. And the matter soon. Here we've been in his beed at\na moment the same tall in his face. Then's now it was a gen left of\nthe same anything. I stand to make him when the presence of my supposition to the\nbirch should night, the crots of times the servant, and, why won't you?\nI am so than anything!\" said Levin, silling to a smile.\n\n\"Well, a point of the bright and constact of anything of,\" he said,\nwhile would have tellized her short, without too to say to her.\n\n\"Well, and they're not in the peasants, a springs,\" she said, gating at\nthe day to the coat and wanted to her husband to hear, smiling with the\nraterrows.\n\nHe heard an official continual conversation with him, but\nshe was said this. This shoulders of the drive she was sitting in\ntheir\n"
    }
   ],
   "source": [
    "# Sample using a loaded model\n",
    "print(sample(loaded, 2000, top_k=5, prime=\"And Levin said\"))"
   ]
  },
  {
   "cell_type": "code",
   "execution_count": null,
   "metadata": {
    "collapsed": true
   },
   "outputs": [],
   "source": []
  }
 ],
 "metadata": {
  "kernelspec": {
   "display_name": "Python 3.6.7 64-bit ('tensorflow': conda)",
   "language": "python",
   "name": "python36764bittensorflowconda7b2aaa6a1c344b04982f99c98a94bf0c"
  },
  "language_info": {
   "codemirror_mode": {
    "name": "ipython",
    "version": 3
   },
   "file_extension": ".py",
   "mimetype": "text/x-python",
   "name": "python",
   "nbconvert_exporter": "python",
   "pygments_lexer": "ipython3",
   "version": "3.6.7-final"
  }
 },
 "nbformat": 4,
 "nbformat_minor": 2
}