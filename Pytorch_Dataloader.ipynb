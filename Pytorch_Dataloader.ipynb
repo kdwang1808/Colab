{
 "nbformat": 4,
 "nbformat_minor": 2,
 "metadata": {
  "language_info": {
   "name": "python",
   "codemirror_mode": {
    "name": "ipython",
    "version": 3
   },
   "version": "3.6.7-final"
  },
  "orig_nbformat": 2,
  "file_extension": ".py",
  "mimetype": "text/x-python",
  "name": "python",
  "npconvert_exporter": "python",
  "pygments_lexer": "ipython3",
  "version": 3,
  "kernelspec": {
   "name": "python36764bittensorflowconda7b2aaa6a1c344b04982f99c98a94bf0c",
   "display_name": "Python 3.6.7 64-bit ('tensorflow': conda)"
  }
 },
 "cells": [
  {
   "cell_type": "markdown",
   "execution_count": null,
   "metadata": {},
   "outputs": [],
   "source": [
    "* ## Dataloader 批训练\n",
    "DataLoader是 torch 给你用来包装你的数据的工具. 所以将数据形式转换成 Tensor, 然后再放进这个包装器中. 使用 DataLoader 就是他有效地迭代数据。"
   ]
  },
  {
   "cell_type": "code",
   "execution_count": 5,
   "metadata": {},
   "outputs": [
    {
     "name": "stdout",
     "output_type": "stream",
     "text": "Epoch:0| Step:0| batch x:[ 5.  7. 10.  3.  4.]| batch y:[6. 4. 1. 8. 7.]\nEpoch:0| Step:1| batch x:[2. 1. 8. 9. 6.]| batch y:[ 9. 10.  3.  2.  5.]\nEpoch:1| Step:0| batch x:[ 4.  6.  7. 10.  8.]| batch y:[7. 5. 4. 1. 3.]\nEpoch:1| Step:1| batch x:[5. 3. 2. 1. 9.]| batch y:[ 6.  8.  9. 10.  2.]\nEpoch:2| Step:0| batch x:[ 4.  2.  5.  6. 10.]| batch y:[7. 9. 6. 5. 1.]\nEpoch:2| Step:1| batch x:[3. 9. 1. 8. 7.]| batch y:[ 8.  2. 10.  3.  4.]\n"
    }
   ],
   "source": [
    "import torch\n",
    "torch.manual_seed(1)    # reproducible\n",
    "\n",
    "BATCH_SIZE = 5      # 批训练的数据个数\n",
    "\n",
    "x = torch.linspace(1, 10, 10)       # x data (torch tensor)\n",
    "y = torch.linspace(10, 1, 10)       # y data (torch tensor)\n",
    "\n",
    "# 先转换成 torch 能识别的 Dataset\n",
    "torch_dataset = torch.utils.data.TensorDataset(x, y)\n",
    "\n",
    "# 把 dataset 放入 DataLoader\n",
    "loader = torch.utils.data.DataLoader(\n",
    "    dataset=torch_dataset,      # torch TensorDataset format\n",
    "    batch_size=BATCH_SIZE,      # mini batch size\n",
    "    shuffle=True,               # 要不要打乱数据 (打乱比较好)\n",
    "    num_workers=3,              # 多线程来读数据\n",
    ")\n",
    "\n",
    "for epoch in range(3):   # 训练所有整套数据 3 次\n",
    "    for step, (batch_x, batch_y) in enumerate(loader):  # 每一步 loader 释放一小批数据用来学习, step = num_data/batch_size\n",
    "        # 这里就是你训练的地方...\n",
    "\n",
    "        # 打出来一些数据\n",
    "        print('Epoch: ', epoch, '| Step: ', step, '| batch x: ',\n",
    "              batch_x.numpy(), '| batch y: ', batch_y.numpy())\n"
   ]
  },
  {
   "cell_type": "code",
   "execution_count": 8,
   "metadata": {},
   "outputs": [
    {
     "name": "stdout",
     "output_type": "stream",
     "text": "[(0, [tensor([5., 1., 3., 7., 6.]), tensor([ 6., 10.,  8.,  4.,  5.])]), (1, [tensor([10.,  9.,  8.,  2.,  4.]), tensor([1., 2., 3., 9., 7.])])]\n"
    }
   ],
   "source": [
    "print(list(enumerate(loader)))"
   ]
  },
  {
   "cell_type": "code",
   "execution_count": null,
   "metadata": {},
   "outputs": [],
   "source": []
  }
 ]
}